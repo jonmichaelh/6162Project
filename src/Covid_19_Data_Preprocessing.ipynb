{
 "cells": [
  {
   "cell_type": "markdown",
   "metadata": {},
   "source": [
    "# Do Masks Mandates Affect Covid-19 Results?"
   ]
  },
  {
   "cell_type": "markdown",
   "metadata": {},
   "source": [
    "### Original data and column descriptions: [Covid Tracking Project](https://covidtracking.com/data/download)\n"
   ]
  },
  {
   "cell_type": "markdown",
   "metadata": {},
   "source": [
    "<center> <h2> States to be Explored</h2></center>\n",
    "\n",
    "| State | Mask Mandate/Effective Date | # missing values in Date Range|\n",
    "| --- | --- | --- |\n",
    "| South Carolina | N/A | 0 |\n",
    "| North Carolina | 06-24-2020 | 0 |\n",
    "| Georgia | N/A | 0 |\n",
    "| Virginia | 05-29-2020 | 0 |\n",
    "| Arkansas | 07-20-2020 | 0 |\n",
    "| New Jersey | 07-08-2020 | 0 |\n",
    "| Connecticut | 04-20-2020 | 0 |\n",
    "\n",
    "\n",
    "\n",
    "<center> <h3> Date Range to be Explored: 4/13/20-7/27/20 </h3></center>\n",
    "\n"
   ]
  },
  {
   "cell_type": "markdown",
   "metadata": {},
   "source": [
    "## Importing Data"
   ]
  },
  {
   "cell_type": "code",
   "execution_count": 152,
   "metadata": {},
   "outputs": [],
   "source": [
    "import numpy as np\n",
    "import pandas as pd\n",
    "pd.set_option('display.max_rows', 500)\n",
    "pd.set_option('display.max_columns', 500)\n",
    "pd.set_option('display.width', 1000)\n",
    "import requests\n",
    "from io import StringIO"
   ]
  },
  {
   "cell_type": "code",
   "execution_count": 153,
   "metadata": {},
   "outputs": [],
   "source": [
    "#Import data directly from google drive as data\n",
    "orig_url = 'https://drive.google.com/file/d/1D3KX8DD2V__a3wnIf9UyQ1z_0rlS55WC/view?usp=sharing'\n",
    "\n",
    "file_id = orig_url.split('/')[-2]\n",
    "dwn_url='https://drive.google.com/uc?export=download&id=' + file_id\n",
    "url = requests.get(dwn_url).text\n",
    "csv_raw = StringIO(url)\n",
    "data = pd.read_csv(csv_raw)"
   ]
  },
  {
   "cell_type": "markdown",
   "metadata": {},
   "source": [
    "## Data Understanding: Entire Dataset"
   ]
  },
  {
   "cell_type": "code",
   "execution_count": 154,
   "metadata": {},
   "outputs": [
    {
     "data": {
      "text/html": [
       "<div>\n",
       "<style scoped>\n",
       "    .dataframe tbody tr th:only-of-type {\n",
       "        vertical-align: middle;\n",
       "    }\n",
       "\n",
       "    .dataframe tbody tr th {\n",
       "        vertical-align: top;\n",
       "    }\n",
       "\n",
       "    .dataframe thead th {\n",
       "        text-align: right;\n",
       "    }\n",
       "</style>\n",
       "<table border=\"1\" class=\"dataframe\">\n",
       "  <thead>\n",
       "    <tr style=\"text-align: right;\">\n",
       "      <th></th>\n",
       "      <th>date</th>\n",
       "      <th>state</th>\n",
       "      <th>positive</th>\n",
       "      <th>negative</th>\n",
       "      <th>pending</th>\n",
       "      <th>hospitalizedCurrently</th>\n",
       "      <th>hospitalizedCumulative</th>\n",
       "      <th>inIcuCurrently</th>\n",
       "      <th>inIcuCumulative</th>\n",
       "      <th>onVentilatorCurrently</th>\n",
       "      <th>onVentilatorCumulative</th>\n",
       "      <th>recovered</th>\n",
       "      <th>dataQualityGrade</th>\n",
       "      <th>lastUpdateEt</th>\n",
       "      <th>dateModified</th>\n",
       "      <th>checkTimeEt</th>\n",
       "      <th>death</th>\n",
       "      <th>hospitalized</th>\n",
       "      <th>dateChecked</th>\n",
       "      <th>totalTestsViral</th>\n",
       "      <th>positiveTestsViral</th>\n",
       "      <th>negativeTestsViral</th>\n",
       "      <th>positiveCasesViral</th>\n",
       "      <th>deathConfirmed</th>\n",
       "      <th>deathProbable</th>\n",
       "      <th>fips</th>\n",
       "      <th>positiveIncrease</th>\n",
       "      <th>negativeIncrease</th>\n",
       "      <th>total</th>\n",
       "      <th>totalTestResults</th>\n",
       "      <th>totalTestResultsIncrease</th>\n",
       "      <th>posNeg</th>\n",
       "      <th>deathIncrease</th>\n",
       "      <th>hospitalizedIncrease</th>\n",
       "      <th>hash</th>\n",
       "      <th>commercialScore</th>\n",
       "      <th>negativeRegularScore</th>\n",
       "      <th>negativeScore</th>\n",
       "      <th>positiveScore</th>\n",
       "      <th>score</th>\n",
       "      <th>grade</th>\n",
       "    </tr>\n",
       "  </thead>\n",
       "  <tbody>\n",
       "    <tr>\n",
       "      <th>0</th>\n",
       "      <td>20200727</td>\n",
       "      <td>AK</td>\n",
       "      <td>3206.0</td>\n",
       "      <td>204162.0</td>\n",
       "      <td>NaN</td>\n",
       "      <td>38.0</td>\n",
       "      <td>NaN</td>\n",
       "      <td>NaN</td>\n",
       "      <td>NaN</td>\n",
       "      <td>3.0</td>\n",
       "      <td>NaN</td>\n",
       "      <td>817.0</td>\n",
       "      <td>A</td>\n",
       "      <td>7/27/2020 00:00</td>\n",
       "      <td>2020-07-27T00:00:00Z</td>\n",
       "      <td>07/26 20:00</td>\n",
       "      <td>21.0</td>\n",
       "      <td>NaN</td>\n",
       "      <td>2020-07-27T00:00:00Z</td>\n",
       "      <td>207264.0</td>\n",
       "      <td>NaN</td>\n",
       "      <td>NaN</td>\n",
       "      <td>3206.0</td>\n",
       "      <td>21.0</td>\n",
       "      <td>NaN</td>\n",
       "      <td>2</td>\n",
       "      <td>104</td>\n",
       "      <td>0</td>\n",
       "      <td>207368</td>\n",
       "      <td>207368</td>\n",
       "      <td>104</td>\n",
       "      <td>207368</td>\n",
       "      <td>1</td>\n",
       "      <td>0</td>\n",
       "      <td>de28ff6d7d2874c791219904c2fa81f83142a78f</td>\n",
       "      <td>0</td>\n",
       "      <td>0</td>\n",
       "      <td>0</td>\n",
       "      <td>0</td>\n",
       "      <td>0</td>\n",
       "      <td>NaN</td>\n",
       "    </tr>\n",
       "    <tr>\n",
       "      <th>1</th>\n",
       "      <td>20200727</td>\n",
       "      <td>AL</td>\n",
       "      <td>81115.0</td>\n",
       "      <td>576844.0</td>\n",
       "      <td>NaN</td>\n",
       "      <td>1599.0</td>\n",
       "      <td>9694.0</td>\n",
       "      <td>NaN</td>\n",
       "      <td>1081.0</td>\n",
       "      <td>NaN</td>\n",
       "      <td>577.0</td>\n",
       "      <td>32510.0</td>\n",
       "      <td>B</td>\n",
       "      <td>7/27/2020 11:00</td>\n",
       "      <td>2020-07-27T11:00:00Z</td>\n",
       "      <td>07/27 07:00</td>\n",
       "      <td>1491.0</td>\n",
       "      <td>9694.0</td>\n",
       "      <td>2020-07-27T11:00:00Z</td>\n",
       "      <td>655973.0</td>\n",
       "      <td>NaN</td>\n",
       "      <td>NaN</td>\n",
       "      <td>79129.0</td>\n",
       "      <td>1446.0</td>\n",
       "      <td>45.0</td>\n",
       "      <td>1</td>\n",
       "      <td>1821</td>\n",
       "      <td>6452</td>\n",
       "      <td>657959</td>\n",
       "      <td>657959</td>\n",
       "      <td>8273</td>\n",
       "      <td>657959</td>\n",
       "      <td>18</td>\n",
       "      <td>537</td>\n",
       "      <td>906fddfa88864f88bdf0d2bcb19cf267a406f2e6</td>\n",
       "      <td>0</td>\n",
       "      <td>0</td>\n",
       "      <td>0</td>\n",
       "      <td>0</td>\n",
       "      <td>0</td>\n",
       "      <td>NaN</td>\n",
       "    </tr>\n",
       "    <tr>\n",
       "      <th>2</th>\n",
       "      <td>20200727</td>\n",
       "      <td>AR</td>\n",
       "      <td>39447.0</td>\n",
       "      <td>445444.0</td>\n",
       "      <td>NaN</td>\n",
       "      <td>489.0</td>\n",
       "      <td>2624.0</td>\n",
       "      <td>NaN</td>\n",
       "      <td>NaN</td>\n",
       "      <td>110.0</td>\n",
       "      <td>369.0</td>\n",
       "      <td>32365.0</td>\n",
       "      <td>A</td>\n",
       "      <td>7/27/2020 14:40</td>\n",
       "      <td>2020-07-27T14:40:00Z</td>\n",
       "      <td>07/27 10:40</td>\n",
       "      <td>408.0</td>\n",
       "      <td>2624.0</td>\n",
       "      <td>2020-07-27T14:40:00Z</td>\n",
       "      <td>484891.0</td>\n",
       "      <td>NaN</td>\n",
       "      <td>NaN</td>\n",
       "      <td>39447.0</td>\n",
       "      <td>NaN</td>\n",
       "      <td>NaN</td>\n",
       "      <td>5</td>\n",
       "      <td>824</td>\n",
       "      <td>6800</td>\n",
       "      <td>484891</td>\n",
       "      <td>484891</td>\n",
       "      <td>7624</td>\n",
       "      <td>484891</td>\n",
       "      <td>7</td>\n",
       "      <td>82</td>\n",
       "      <td>819db85fb84f50809d492ae373ea4914e01077f0</td>\n",
       "      <td>0</td>\n",
       "      <td>0</td>\n",
       "      <td>0</td>\n",
       "      <td>0</td>\n",
       "      <td>0</td>\n",
       "      <td>NaN</td>\n",
       "    </tr>\n",
       "    <tr>\n",
       "      <th>3</th>\n",
       "      <td>20200727</td>\n",
       "      <td>AS</td>\n",
       "      <td>0.0</td>\n",
       "      <td>1037.0</td>\n",
       "      <td>NaN</td>\n",
       "      <td>NaN</td>\n",
       "      <td>NaN</td>\n",
       "      <td>NaN</td>\n",
       "      <td>NaN</td>\n",
       "      <td>NaN</td>\n",
       "      <td>NaN</td>\n",
       "      <td>NaN</td>\n",
       "      <td>C</td>\n",
       "      <td>7/16/2020 00:00</td>\n",
       "      <td>2020-07-16T00:00:00Z</td>\n",
       "      <td>07/15 20:00</td>\n",
       "      <td>0.0</td>\n",
       "      <td>NaN</td>\n",
       "      <td>2020-07-16T00:00:00Z</td>\n",
       "      <td>NaN</td>\n",
       "      <td>NaN</td>\n",
       "      <td>NaN</td>\n",
       "      <td>0.0</td>\n",
       "      <td>NaN</td>\n",
       "      <td>NaN</td>\n",
       "      <td>60</td>\n",
       "      <td>0</td>\n",
       "      <td>0</td>\n",
       "      <td>1037</td>\n",
       "      <td>1037</td>\n",
       "      <td>0</td>\n",
       "      <td>1037</td>\n",
       "      <td>0</td>\n",
       "      <td>0</td>\n",
       "      <td>e2900aeb060df366a3f3a70300dccec3b2e33ae8</td>\n",
       "      <td>0</td>\n",
       "      <td>0</td>\n",
       "      <td>0</td>\n",
       "      <td>0</td>\n",
       "      <td>0</td>\n",
       "      <td>NaN</td>\n",
       "    </tr>\n",
       "    <tr>\n",
       "      <th>4</th>\n",
       "      <td>20200727</td>\n",
       "      <td>AZ</td>\n",
       "      <td>163827.0</td>\n",
       "      <td>714506.0</td>\n",
       "      <td>NaN</td>\n",
       "      <td>2626.0</td>\n",
       "      <td>7751.0</td>\n",
       "      <td>820.0</td>\n",
       "      <td>NaN</td>\n",
       "      <td>567.0</td>\n",
       "      <td>NaN</td>\n",
       "      <td>21321.0</td>\n",
       "      <td>A+</td>\n",
       "      <td>7/27/2020 00:00</td>\n",
       "      <td>2020-07-27T00:00:00Z</td>\n",
       "      <td>07/26 20:00</td>\n",
       "      <td>3304.0</td>\n",
       "      <td>7751.0</td>\n",
       "      <td>2020-07-27T00:00:00Z</td>\n",
       "      <td>878333.0</td>\n",
       "      <td>NaN</td>\n",
       "      <td>NaN</td>\n",
       "      <td>137710.0</td>\n",
       "      <td>2431.0</td>\n",
       "      <td>152.0</td>\n",
       "      <td>4</td>\n",
       "      <td>1813</td>\n",
       "      <td>9417</td>\n",
       "      <td>878333</td>\n",
       "      <td>878333</td>\n",
       "      <td>11230</td>\n",
       "      <td>878333</td>\n",
       "      <td>-1</td>\n",
       "      <td>45</td>\n",
       "      <td>11d6f676a2f3a2381d94968e48b3b0b447284a05</td>\n",
       "      <td>0</td>\n",
       "      <td>0</td>\n",
       "      <td>0</td>\n",
       "      <td>0</td>\n",
       "      <td>0</td>\n",
       "      <td>NaN</td>\n",
       "    </tr>\n",
       "  </tbody>\n",
       "</table>\n",
       "</div>"
      ],
      "text/plain": [
       "       date state  positive  negative  pending  hospitalizedCurrently  hospitalizedCumulative  inIcuCurrently  inIcuCumulative  onVentilatorCurrently  onVentilatorCumulative  recovered dataQualityGrade     lastUpdateEt          dateModified  checkTimeEt   death  hospitalized           dateChecked  totalTestsViral  positiveTestsViral  negativeTestsViral  positiveCasesViral  deathConfirmed  deathProbable  fips  positiveIncrease  negativeIncrease   total  totalTestResults  totalTestResultsIncrease  posNeg  deathIncrease  hospitalizedIncrease                                      hash  commercialScore  negativeRegularScore  negativeScore  positiveScore  score  grade\n",
       "0  20200727    AK    3206.0  204162.0      NaN                   38.0                     NaN             NaN              NaN                    3.0                     NaN      817.0                A  7/27/2020 00:00  2020-07-27T00:00:00Z  07/26 20:00    21.0           NaN  2020-07-27T00:00:00Z         207264.0                 NaN                 NaN              3206.0            21.0            NaN     2               104                 0  207368            207368                       104  207368              1                     0  de28ff6d7d2874c791219904c2fa81f83142a78f                0                     0              0              0      0    NaN\n",
       "1  20200727    AL   81115.0  576844.0      NaN                 1599.0                  9694.0             NaN           1081.0                    NaN                   577.0    32510.0                B  7/27/2020 11:00  2020-07-27T11:00:00Z  07/27 07:00  1491.0        9694.0  2020-07-27T11:00:00Z         655973.0                 NaN                 NaN             79129.0          1446.0           45.0     1              1821              6452  657959            657959                      8273  657959             18                   537  906fddfa88864f88bdf0d2bcb19cf267a406f2e6                0                     0              0              0      0    NaN\n",
       "2  20200727    AR   39447.0  445444.0      NaN                  489.0                  2624.0             NaN              NaN                  110.0                   369.0    32365.0                A  7/27/2020 14:40  2020-07-27T14:40:00Z  07/27 10:40   408.0        2624.0  2020-07-27T14:40:00Z         484891.0                 NaN                 NaN             39447.0             NaN            NaN     5               824              6800  484891            484891                      7624  484891              7                    82  819db85fb84f50809d492ae373ea4914e01077f0                0                     0              0              0      0    NaN\n",
       "3  20200727    AS       0.0    1037.0      NaN                    NaN                     NaN             NaN              NaN                    NaN                     NaN        NaN                C  7/16/2020 00:00  2020-07-16T00:00:00Z  07/15 20:00     0.0           NaN  2020-07-16T00:00:00Z              NaN                 NaN                 NaN                 0.0             NaN            NaN    60                 0                 0    1037              1037                         0    1037              0                     0  e2900aeb060df366a3f3a70300dccec3b2e33ae8                0                     0              0              0      0    NaN\n",
       "4  20200727    AZ  163827.0  714506.0      NaN                 2626.0                  7751.0           820.0              NaN                  567.0                     NaN    21321.0               A+  7/27/2020 00:00  2020-07-27T00:00:00Z  07/26 20:00  3304.0        7751.0  2020-07-27T00:00:00Z         878333.0                 NaN                 NaN            137710.0          2431.0          152.0     4              1813              9417  878333            878333                     11230  878333             -1                    45  11d6f676a2f3a2381d94968e48b3b0b447284a05                0                     0              0              0      0    NaN"
      ]
     },
     "execution_count": 154,
     "metadata": {},
     "output_type": "execute_result"
    }
   ],
   "source": [
    "pd.options.display.max_columns=None\n",
    "data.head()"
   ]
  },
  {
   "cell_type": "code",
   "execution_count": 155,
   "metadata": {},
   "outputs": [
    {
     "name": "stdout",
     "output_type": "stream",
     "text": [
      "<class 'pandas.core.frame.DataFrame'>\n",
      "RangeIndex: 8081 entries, 0 to 8080\n",
      "Data columns (total 41 columns):\n",
      "date                        8081 non-null int64\n",
      "state                       8081 non-null object\n",
      "positive                    8066 non-null float64\n",
      "negative                    7925 non-null float64\n",
      "pending                     1054 non-null float64\n",
      "hospitalizedCurrently       5511 non-null float64\n",
      "hospitalizedCumulative      4297 non-null float64\n",
      "inIcuCurrently              2802 non-null float64\n",
      "inIcuCumulative             1159 non-null float64\n",
      "onVentilatorCurrently       2454 non-null float64\n",
      "onVentilatorCumulative      410 non-null float64\n",
      "recovered                   4934 non-null float64\n",
      "dataQualityGrade            6980 non-null object\n",
      "lastUpdateEt                7737 non-null object\n",
      "dateModified                7737 non-null object\n",
      "checkTimeEt                 7737 non-null object\n",
      "death                       7383 non-null float64\n",
      "hospitalized                4297 non-null float64\n",
      "dateChecked                 7737 non-null object\n",
      "totalTestsViral             2758 non-null float64\n",
      "positiveTestsViral          1009 non-null float64\n",
      "negativeTestsViral          1038 non-null float64\n",
      "positiveCasesViral          4834 non-null float64\n",
      "deathConfirmed              2550 non-null float64\n",
      "deathProbable               1624 non-null float64\n",
      "fips                        8081 non-null int64\n",
      "positiveIncrease            8081 non-null int64\n",
      "negativeIncrease            8081 non-null int64\n",
      "total                       8081 non-null int64\n",
      "totalTestResults            8081 non-null int64\n",
      "totalTestResultsIncrease    8081 non-null int64\n",
      "posNeg                      8081 non-null int64\n",
      "deathIncrease               8081 non-null int64\n",
      "hospitalizedIncrease        8081 non-null int64\n",
      "hash                        8081 non-null object\n",
      "commercialScore             8081 non-null int64\n",
      "negativeRegularScore        8081 non-null int64\n",
      "negativeScore               8081 non-null int64\n",
      "positiveScore               8081 non-null int64\n",
      "score                       8081 non-null int64\n",
      "grade                       0 non-null float64\n",
      "dtypes: float64(19), int64(15), object(7)\n",
      "memory usage: 2.5+ MB\n"
     ]
    }
   ],
   "source": [
    "data.info()"
   ]
  },
  {
   "cell_type": "markdown",
   "metadata": {},
   "source": [
    "## Data Preprocessing I\n",
    "* Convert columns to categorical and datetime\n",
    "* Select the columns relevant to our study:\n",
    "    1. Date\n",
    "    2. State\n",
    "    3. Positive\n",
    "    4. Negative\n",
    "    5. Total Test Results\n",
    "    6. Total Test Results Increase\n",
    "* Check/Handle any null values"
   ]
  },
  {
   "cell_type": "code",
   "execution_count": 156,
   "metadata": {},
   "outputs": [
    {
     "name": "stdout",
     "output_type": "stream",
     "text": [
      "Index(['AK', 'AL', 'AR', 'AS', 'AZ', 'CA', 'CO', 'CT', 'DC', 'DE', 'FL', 'GA', 'GU', 'HI', 'IA', 'ID', 'IL', 'IN', 'KS', 'KY', 'LA', 'MA', 'MD', 'ME', 'MI', 'MN', 'MO', 'MP', 'MS', 'MT', 'NC', 'ND', 'NE', 'NH', 'NJ', 'NM', 'NV', 'NY', 'OH', 'OK', 'OR', 'PA', 'PR', 'RI', 'SC', 'SD', 'TN', 'TX', 'UT', 'VA', 'VI', 'VT', 'WA', 'WI', 'WV', 'WY'], dtype='object')\n"
     ]
    }
   ],
   "source": [
    "#Change state to category type\n",
    "data['state'] = data['state'].astype('category')\n",
    "print(data.state.cat.categories)"
   ]
  },
  {
   "cell_type": "code",
   "execution_count": 157,
   "metadata": {},
   "outputs": [],
   "source": [
    "#We will select only features pertaining to date, negative, positive, state, totalTestResults,\n",
    "#totalTestResultsIncrease and store it into data_sub as the subset\n",
    "data_sub = data[['date', 'state', 'positive', 'negative', 'totalTestResults', 'totalTestResultsIncrease']]"
   ]
  },
  {
   "cell_type": "code",
   "execution_count": 158,
   "metadata": {},
   "outputs": [
    {
     "data": {
      "text/plain": [
       "0"
      ]
     },
     "execution_count": 158,
     "metadata": {},
     "output_type": "execute_result"
    }
   ],
   "source": [
    "#Convert date to date-time object\n",
    "data_sub.date = pd.to_datetime(data_sub.date, format='%Y%m%d', errors='coerce')\n",
    "\n",
    "#Check to make sure all dates converted properly ie. errors='coerce' did not return a NAN\n",
    "pd.isna(data_sub.date).sum()"
   ]
  },
  {
   "cell_type": "markdown",
   "metadata": {},
   "source": [
    "## Data Understanding: Subset of Data"
   ]
  },
  {
   "cell_type": "code",
   "execution_count": 159,
   "metadata": {},
   "outputs": [
    {
     "name": "stdout",
     "output_type": "stream",
     "text": [
      "2020-07-27 00:00:00\n",
      "2020-01-22 00:00:00\n"
     ]
    }
   ],
   "source": [
    "#Display date ranges for entire dataset\n",
    "print(max(data_sub['date']))\n",
    "print(min(data_sub['date']))"
   ]
  },
  {
   "cell_type": "code",
   "execution_count": 160,
   "metadata": {},
   "outputs": [
    {
     "name": "stdout",
     "output_type": "stream",
     "text": [
      "date                          0\n",
      "state                         0\n",
      "positive                     15\n",
      "negative                    156\n",
      "totalTestResults              0\n",
      "totalTestResultsIncrease      0\n",
      "dtype: int64\n"
     ]
    }
   ],
   "source": [
    "#Check for any null/nan values in dataset\n",
    "print(data_sub.isna().sum())\n",
    "\n",
    "#display rows where one or more nan values are present\n",
    "data_sub_na = data_sub[data_sub.isna().any(axis=1)]"
   ]
  },
  {
   "cell_type": "markdown",
   "metadata": {},
   "source": [
    "### Although there are missing data values in the dataset for the positive and negative columns, we will ignore for now and check again when we further split the data up among state/date ranges and handle if necessary."
   ]
  },
  {
   "cell_type": "code",
   "execution_count": 161,
   "metadata": {},
   "outputs": [
    {
     "data": {
      "text/html": [
       "<div>\n",
       "<style scoped>\n",
       "    .dataframe tbody tr th:only-of-type {\n",
       "        vertical-align: middle;\n",
       "    }\n",
       "\n",
       "    .dataframe tbody tr th {\n",
       "        vertical-align: top;\n",
       "    }\n",
       "\n",
       "    .dataframe thead th {\n",
       "        text-align: right;\n",
       "    }\n",
       "</style>\n",
       "<table border=\"1\" class=\"dataframe\">\n",
       "  <thead>\n",
       "    <tr style=\"text-align: right;\">\n",
       "      <th></th>\n",
       "      <th>date</th>\n",
       "      <th>state</th>\n",
       "      <th>positive</th>\n",
       "      <th>negative</th>\n",
       "      <th>totalTestResults</th>\n",
       "      <th>totalTestResultsIncrease</th>\n",
       "    </tr>\n",
       "  </thead>\n",
       "  <tbody>\n",
       "    <tr>\n",
       "      <th>0</th>\n",
       "      <td>2020-07-27</td>\n",
       "      <td>AK</td>\n",
       "      <td>3206.0</td>\n",
       "      <td>204162.0</td>\n",
       "      <td>207368</td>\n",
       "      <td>104</td>\n",
       "    </tr>\n",
       "    <tr>\n",
       "      <th>1</th>\n",
       "      <td>2020-07-27</td>\n",
       "      <td>AL</td>\n",
       "      <td>81115.0</td>\n",
       "      <td>576844.0</td>\n",
       "      <td>657959</td>\n",
       "      <td>8273</td>\n",
       "    </tr>\n",
       "    <tr>\n",
       "      <th>2</th>\n",
       "      <td>2020-07-27</td>\n",
       "      <td>AR</td>\n",
       "      <td>39447.0</td>\n",
       "      <td>445444.0</td>\n",
       "      <td>484891</td>\n",
       "      <td>7624</td>\n",
       "    </tr>\n",
       "    <tr>\n",
       "      <th>3</th>\n",
       "      <td>2020-07-27</td>\n",
       "      <td>AS</td>\n",
       "      <td>0.0</td>\n",
       "      <td>1037.0</td>\n",
       "      <td>1037</td>\n",
       "      <td>0</td>\n",
       "    </tr>\n",
       "    <tr>\n",
       "      <th>4</th>\n",
       "      <td>2020-07-27</td>\n",
       "      <td>AZ</td>\n",
       "      <td>163827.0</td>\n",
       "      <td>714506.0</td>\n",
       "      <td>878333</td>\n",
       "      <td>11230</td>\n",
       "    </tr>\n",
       "  </tbody>\n",
       "</table>\n",
       "</div>"
      ],
      "text/plain": [
       "        date state  positive  negative  totalTestResults  totalTestResultsIncrease\n",
       "0 2020-07-27    AK    3206.0  204162.0            207368                       104\n",
       "1 2020-07-27    AL   81115.0  576844.0            657959                      8273\n",
       "2 2020-07-27    AR   39447.0  445444.0            484891                      7624\n",
       "3 2020-07-27    AS       0.0    1037.0              1037                         0\n",
       "4 2020-07-27    AZ  163827.0  714506.0            878333                     11230"
      ]
     },
     "execution_count": 161,
     "metadata": {},
     "output_type": "execute_result"
    }
   ],
   "source": [
    "#display the head of subset\n",
    "data_sub.head()"
   ]
  },
  {
   "cell_type": "code",
   "execution_count": 162,
   "metadata": {},
   "outputs": [
    {
     "data": {
      "text/html": [
       "<div>\n",
       "<style scoped>\n",
       "    .dataframe tbody tr th:only-of-type {\n",
       "        vertical-align: middle;\n",
       "    }\n",
       "\n",
       "    .dataframe tbody tr th {\n",
       "        vertical-align: top;\n",
       "    }\n",
       "\n",
       "    .dataframe thead th {\n",
       "        text-align: right;\n",
       "    }\n",
       "</style>\n",
       "<table border=\"1\" class=\"dataframe\">\n",
       "  <thead>\n",
       "    <tr style=\"text-align: right;\">\n",
       "      <th></th>\n",
       "      <th>positive</th>\n",
       "      <th>negative</th>\n",
       "      <th>totalTestResults</th>\n",
       "      <th>totalTestResultsIncrease</th>\n",
       "    </tr>\n",
       "  </thead>\n",
       "  <tbody>\n",
       "    <tr>\n",
       "      <th>count</th>\n",
       "      <td>8066.000000</td>\n",
       "      <td>7.925000e+03</td>\n",
       "      <td>8.081000e+03</td>\n",
       "      <td>8081.000000</td>\n",
       "    </tr>\n",
       "    <tr>\n",
       "      <th>mean</th>\n",
       "      <td>27771.993429</td>\n",
       "      <td>2.667039e+05</td>\n",
       "      <td>2.892757e+05</td>\n",
       "      <td>6465.931197</td>\n",
       "    </tr>\n",
       "    <tr>\n",
       "      <th>std</th>\n",
       "      <td>58426.108202</td>\n",
       "      <td>5.715614e+05</td>\n",
       "      <td>6.185833e+05</td>\n",
       "      <td>12944.340929</td>\n",
       "    </tr>\n",
       "    <tr>\n",
       "      <th>min</th>\n",
       "      <td>0.000000</td>\n",
       "      <td>0.000000e+00</td>\n",
       "      <td>0.000000e+00</td>\n",
       "      <td>-74189.000000</td>\n",
       "    </tr>\n",
       "    <tr>\n",
       "      <th>25%</th>\n",
       "      <td>633.250000</td>\n",
       "      <td>1.205200e+04</td>\n",
       "      <td>1.118400e+04</td>\n",
       "      <td>296.000000</td>\n",
       "    </tr>\n",
       "    <tr>\n",
       "      <th>50%</th>\n",
       "      <td>6260.000000</td>\n",
       "      <td>7.752900e+04</td>\n",
       "      <td>8.166000e+04</td>\n",
       "      <td>2056.000000</td>\n",
       "    </tr>\n",
       "    <tr>\n",
       "      <th>75%</th>\n",
       "      <td>28532.250000</td>\n",
       "      <td>2.783180e+05</td>\n",
       "      <td>3.001000e+05</td>\n",
       "      <td>7023.000000</td>\n",
       "    </tr>\n",
       "    <tr>\n",
       "      <th>max</th>\n",
       "      <td>460550.000000</td>\n",
       "      <td>6.836028e+06</td>\n",
       "      <td>7.296578e+06</td>\n",
       "      <td>165227.000000</td>\n",
       "    </tr>\n",
       "  </tbody>\n",
       "</table>\n",
       "</div>"
      ],
      "text/plain": [
       "            positive      negative  totalTestResults  totalTestResultsIncrease\n",
       "count    8066.000000  7.925000e+03      8.081000e+03               8081.000000\n",
       "mean    27771.993429  2.667039e+05      2.892757e+05               6465.931197\n",
       "std     58426.108202  5.715614e+05      6.185833e+05              12944.340929\n",
       "min         0.000000  0.000000e+00      0.000000e+00             -74189.000000\n",
       "25%       633.250000  1.205200e+04      1.118400e+04                296.000000\n",
       "50%      6260.000000  7.752900e+04      8.166000e+04               2056.000000\n",
       "75%     28532.250000  2.783180e+05      3.001000e+05               7023.000000\n",
       "max    460550.000000  6.836028e+06      7.296578e+06             165227.000000"
      ]
     },
     "execution_count": 162,
     "metadata": {},
     "output_type": "execute_result"
    }
   ],
   "source": [
    "#check using describe to see if any anomalies are present\n",
    "data_sub.describe()"
   ]
  },
  {
   "cell_type": "markdown",
   "metadata": {},
   "source": [
    "## Data Preprocessing II\n",
    "* Create Helper functions to further subset the data by State & Date Range\n",
    "* Test Helper functions\n",
    "* Check each state by date range individually for missing values"
   ]
  },
  {
   "cell_type": "markdown",
   "metadata": {},
   "source": [
    "### Helper Functions"
   ]
  },
  {
   "cell_type": "code",
   "execution_count": 163,
   "metadata": {},
   "outputs": [],
   "source": [
    "#Function that returns only data for a specified state\n",
    "def getStateSubset(stateName):\n",
    "    return data_sub.loc[data_sub['state'] == stateName]"
   ]
  },
  {
   "cell_type": "code",
   "execution_count": 164,
   "metadata": {},
   "outputs": [
    {
     "data": {
      "text/plain": [
       "[AK]\n",
       "Categories (1, object): [AK]"
      ]
     },
     "execution_count": 164,
     "metadata": {},
     "output_type": "execute_result"
    }
   ],
   "source": [
    "#Test to make sure getStateSubset() works properly\n",
    "desired_state_data = getStateSubset('AK')\n",
    "desired_state_data['state'].unique()"
   ]
  },
  {
   "cell_type": "code",
   "execution_count": 165,
   "metadata": {},
   "outputs": [],
   "source": [
    "#Frunction that returns only data from a specific date range\n",
    "def getStateSubsetByDateRange(start, end, stateName):\n",
    "    state_df = getStateSubset(stateName)\n",
    "    mask = (state_df['date'] >= start) & (state_df['date'] <= end)\n",
    "    return state_df.loc[mask]"
   ]
  },
  {
   "cell_type": "code",
   "execution_count": 166,
   "metadata": {},
   "outputs": [
    {
     "name": "stdout",
     "output_type": "stream",
     "text": [
      "2020-04-13 00:00:00\n",
      "2020-07-27 00:00:00\n"
     ]
    }
   ],
   "source": [
    "#Test to make sure dates fall into the specified range\n",
    "desired_state_data = getStateSubsetByDateRange('2020-04-13', '2020-07-27', 'NC')\n",
    "print(min(desired_state_data['date']))\n",
    "print(max(desired_state_data['date']))"
   ]
  },
  {
   "cell_type": "markdown",
   "metadata": {},
   "source": [
    "### Check all States to be explored for missing values"
   ]
  },
  {
   "cell_type": "code",
   "execution_count": 167,
   "metadata": {},
   "outputs": [
    {
     "name": "stdout",
     "output_type": "stream",
     "text": [
      "AR\n",
      "date                        0\n",
      "state                       0\n",
      "positive                    0\n",
      "negative                    0\n",
      "totalTestResults            0\n",
      "totalTestResultsIncrease    0\n",
      "dtype: int64\n",
      "-------------------------\n",
      "CT\n",
      "date                        0\n",
      "state                       0\n",
      "positive                    0\n",
      "negative                    0\n",
      "totalTestResults            0\n",
      "totalTestResultsIncrease    0\n",
      "dtype: int64\n",
      "-------------------------\n",
      "NC\n",
      "date                        0\n",
      "state                       0\n",
      "positive                    0\n",
      "negative                    0\n",
      "totalTestResults            0\n",
      "totalTestResultsIncrease    0\n",
      "dtype: int64\n",
      "-------------------------\n",
      "SC\n",
      "date                        0\n",
      "state                       0\n",
      "positive                    0\n",
      "negative                    0\n",
      "totalTestResults            0\n",
      "totalTestResultsIncrease    0\n",
      "dtype: int64\n",
      "-------------------------\n",
      "VA\n",
      "date                        0\n",
      "state                       0\n",
      "positive                    0\n",
      "negative                    0\n",
      "totalTestResults            0\n",
      "totalTestResultsIncrease    0\n",
      "dtype: int64\n",
      "-------------------------\n",
      "NJ\n",
      "date                        0\n",
      "state                       0\n",
      "positive                    0\n",
      "negative                    0\n",
      "totalTestResults            0\n",
      "totalTestResultsIncrease    0\n",
      "dtype: int64\n",
      "-------------------------\n",
      "GA\n",
      "date                        0\n",
      "state                       0\n",
      "positive                    0\n",
      "negative                    0\n",
      "totalTestResults            0\n",
      "totalTestResultsIncrease    0\n",
      "dtype: int64\n",
      "-------------------------\n"
     ]
    }
   ],
   "source": [
    "#Check all selected states within the date range for any null values\n",
    "start_date = '2020-04-13'\n",
    "end_date = '2020-07-27'\n",
    "stateNames = ['AR', 'CT', 'NC', 'SC', 'VA', 'NJ', 'GA']\n",
    "for stateName in stateNames:\n",
    "    desired_data = desired_data.iloc[0:0]\n",
    "    desired_data = getStateSubsetByDateRange(start_date, end_date, stateName)\n",
    "    #Check desired_data for any null values\n",
    "    print(stateName)\n",
    "    print(desired_data.isna().sum())\n",
    "    print('-------------------------')"
   ]
  },
  {
   "cell_type": "markdown",
   "metadata": {},
   "source": [
    "## Template for selecting specific state data by date range\n",
    "**getStateSubsetByDateRange(start_date, end_date, state)**\n",
    "* **start_date:** Beginning of date range in format 'YYYY-MM-DD'\n",
    "* **end_date:** End of date range in format 'YYYY-MM-DD'\n",
    "* **state:** Abbreviation of state to find data for\n",
    "\n",
    "\n",
    "**Returns:** Pandas Dataframe representing Covid-19 Data for a specific State by Date Range"
   ]
  },
  {
   "cell_type": "code",
   "execution_count": 168,
   "metadata": {},
   "outputs": [],
   "source": [
    "start_date = '2020-04-13'\n",
    "end_date = '2020-07-27'\n",
    "state = 'AR'\n",
    "\n",
    "desired_state_data = getStateSubsetByDateRange(start_date, end_date, state)"
   ]
  }
 ],
 "metadata": {
  "kernelspec": {
   "display_name": "Python 3",
   "language": "python",
   "name": "python3"
  },
  "language_info": {
   "codemirror_mode": {
    "name": "ipython",
    "version": 3
   },
   "file_extension": ".py",
   "mimetype": "text/x-python",
   "name": "python",
   "nbconvert_exporter": "python",
   "pygments_lexer": "ipython3",
   "version": "3.7.1"
  }
 },
 "nbformat": 4,
 "nbformat_minor": 2
}
